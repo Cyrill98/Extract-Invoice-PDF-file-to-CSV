{
  "nbformat": 4,
  "nbformat_minor": 0,
  "metadata": {
    "colab": {
      "name": "PDFtoCSV.ipynb",
      "provenance": [],
      "authorship_tag": "ABX9TyMv8Aj4z0mHnEwYwuc2ce0N",
      "include_colab_link": true
    },
    "kernelspec": {
      "name": "python3",
      "display_name": "Python 3"
    },
    "language_info": {
      "name": "python"
    }
  },
  "cells": [
    {
      "cell_type": "markdown",
      "metadata": {
        "id": "view-in-github",
        "colab_type": "text"
      },
      "source": [
        "<a href=\"https://colab.research.google.com/github/Cyrill98/Extract-Invoice-PDF-file-to-CSV/blob/main/PDFtoCSV.ipynb\" target=\"_parent\"><img src=\"https://colab.research.google.com/assets/colab-badge.svg\" alt=\"Open In Colab\"/></a>"
      ]
    },
    {
      "cell_type": "code",
      "metadata": {
        "colab": {
          "base_uri": "https://localhost:8080/"
        },
        "id": "GBAhBQJS2Una",
        "outputId": "b8de6f21-3fb8-46b7-aba5-1bc581389b78"
      },
      "source": [
        "!pip install pdfplumber"
      ],
      "execution_count": 2,
      "outputs": [
        {
          "output_type": "stream",
          "text": [
            "Collecting pdfplumber\n",
            "  Downloading pdfplumber-0.5.28.tar.gz (45 kB)\n",
            "\u001b[K     |████████████████████████████████| 45 kB 2.5 MB/s \n",
            "\u001b[?25hCollecting pdfminer.six==20200517\n",
            "  Downloading pdfminer.six-20200517-py3-none-any.whl (5.6 MB)\n",
            "\u001b[K     |████████████████████████████████| 5.6 MB 18.6 MB/s \n",
            "\u001b[?25hRequirement already satisfied: Pillow>=7.0.0 in /usr/local/lib/python3.7/dist-packages (from pdfplumber) (7.1.2)\n",
            "Collecting Wand\n",
            "  Downloading Wand-0.6.6-py2.py3-none-any.whl (138 kB)\n",
            "\u001b[K     |████████████████████████████████| 138 kB 64.3 MB/s \n",
            "\u001b[?25hCollecting pycryptodome\n",
            "  Downloading pycryptodome-3.10.1-cp35-abi3-manylinux2010_x86_64.whl (1.9 MB)\n",
            "\u001b[K     |████████████████████████████████| 1.9 MB 49.1 MB/s \n",
            "\u001b[?25hRequirement already satisfied: sortedcontainers in /usr/local/lib/python3.7/dist-packages (from pdfminer.six==20200517->pdfplumber) (2.4.0)\n",
            "Requirement already satisfied: chardet in /usr/local/lib/python3.7/dist-packages (from pdfminer.six==20200517->pdfplumber) (3.0.4)\n",
            "Building wheels for collected packages: pdfplumber\n",
            "  Building wheel for pdfplumber (setup.py) ... \u001b[?25l\u001b[?25hdone\n",
            "  Created wheel for pdfplumber: filename=pdfplumber-0.5.28-py3-none-any.whl size=32240 sha256=2863398a756bc331ffc542c2caf5ecd3b9036e71265d26ad192895bec9e91aa8\n",
            "  Stored in directory: /root/.cache/pip/wheels/f2/b1/a0/c0a77b756d580f53b3806ae0e0b3ec945a8d05fca1d6e10cc1\n",
            "Successfully built pdfplumber\n",
            "Installing collected packages: pycryptodome, Wand, pdfminer.six, pdfplumber\n",
            "Successfully installed Wand-0.6.6 pdfminer.six-20200517 pdfplumber-0.5.28 pycryptodome-3.10.1\n"
          ],
          "name": "stdout"
        }
      ]
    },
    {
      "cell_type": "code",
      "metadata": {
        "id": "zVfsMVTfyuPZ"
      },
      "source": [
        "import re\n",
        "\n",
        "import pdfplumber\n",
        "import pandas as pd\n",
        "from collections import namedtuple"
      ],
      "execution_count": 3,
      "outputs": []
    },
    {
      "cell_type": "code",
      "metadata": {
        "id": "5naUkJta2fNs"
      },
      "source": [
        "file = '/content/Sample Invoice Report.pdf'"
      ],
      "execution_count": 4,
      "outputs": []
    },
    {
      "cell_type": "code",
      "metadata": {
        "id": "k9cclhyd2hid"
      },
      "source": [
        "Line = namedtuple('Line', 'company_id company_name doctype reference currency voucher inv_date due_date open_amt_tc open_amt_bc current months1 months2 months3')"
      ],
      "execution_count": 6,
      "outputs": []
    },
    {
      "cell_type": "code",
      "metadata": {
        "id": "R9OoUlNs4JyC"
      },
      "source": [
        "company_re = re.compile(r'(V\\d+) (.*) Phone')\n",
        "line_re = re.compile(r'\\d{2}/\\d{2}/\\d{4} \\d{2}/\\d{2}/\\d{4}')"
      ],
      "execution_count": 14,
      "outputs": []
    },
    {
      "cell_type": "code",
      "metadata": {
        "id": "JF9fM_0226HE"
      },
      "source": [
        "lines = []\n",
        "total_check = 0"
      ],
      "execution_count": 7,
      "outputs": []
    },
    {
      "cell_type": "code",
      "metadata": {
        "id": "snM8Gs_b29rn"
      },
      "source": [
        "with pdfplumber.open(file) as pdf:\n",
        "  pages = pdf.pages\n",
        "  for page in pdf.pages:\n",
        "    text = page.extract_text()\n",
        "    for line in text.split('\\n'):\n",
        "      comp = company_re.search(line)\n",
        "      if comp:\n",
        "        vend_no, vend_name = comp.group(1), comp.group(2)\n",
        "\n",
        "      elif line.startswith('INVOICES'):\n",
        "        doctype = 'INVOICE'\n",
        "\n",
        "      elif line.startswith('CREDITNOTES'):\n",
        "        doctype = 'CREDITNOTE'\n",
        "      \n",
        "      elif line_re.search(line):\n",
        "        items = line.split()\n",
        "        lines.append(Line(vend_no, vend_name, doctype, *items))\n",
        "      \n",
        "      elif line.startswith('Supplier total'):\n",
        "        tot = float(line.split()[2].replace(',',''))\n",
        "        total_check += tot"
      ],
      "execution_count": 17,
      "outputs": []
    },
    {
      "cell_type": "code",
      "metadata": {
        "colab": {
          "base_uri": "https://localhost:8080/",
          "height": 262
        },
        "id": "RY3S2QsD388r",
        "outputId": "67b16763-790b-496e-b9ee-baa53bd1a7cc"
      },
      "source": [
        "df = pd.DataFrame(lines)\n",
        "df.head()"
      ],
      "execution_count": 18,
      "outputs": [
        {
          "output_type": "execute_result",
          "data": {
            "text/html": [
              "<div>\n",
              "<style scoped>\n",
              "    .dataframe tbody tr th:only-of-type {\n",
              "        vertical-align: middle;\n",
              "    }\n",
              "\n",
              "    .dataframe tbody tr th {\n",
              "        vertical-align: top;\n",
              "    }\n",
              "\n",
              "    .dataframe thead th {\n",
              "        text-align: right;\n",
              "    }\n",
              "</style>\n",
              "<table border=\"1\" class=\"dataframe\">\n",
              "  <thead>\n",
              "    <tr style=\"text-align: right;\">\n",
              "      <th></th>\n",
              "      <th>company_id</th>\n",
              "      <th>company_name</th>\n",
              "      <th>doctype</th>\n",
              "      <th>reference</th>\n",
              "      <th>currency</th>\n",
              "      <th>voucher</th>\n",
              "      <th>inv_date</th>\n",
              "      <th>due_date</th>\n",
              "      <th>open_amt_tc</th>\n",
              "      <th>open_amt_bc</th>\n",
              "      <th>current</th>\n",
              "      <th>months1</th>\n",
              "      <th>months2</th>\n",
              "      <th>months3</th>\n",
              "    </tr>\n",
              "  </thead>\n",
              "  <tbody>\n",
              "    <tr>\n",
              "      <th>0</th>\n",
              "      <td>V50012</td>\n",
              "      <td>Company A LTD</td>\n",
              "      <td>CREDITNOTE</td>\n",
              "      <td>478</td>\n",
              "      <td>USD</td>\n",
              "      <td>BFS030OB/000000057</td>\n",
              "      <td>11/03/2014</td>\n",
              "      <td>12/30/2014</td>\n",
              "      <td>263.52</td>\n",
              "      <td>263.52</td>\n",
              "      <td>0.00</td>\n",
              "      <td>0.00</td>\n",
              "      <td>0.00</td>\n",
              "      <td>263.52</td>\n",
              "    </tr>\n",
              "    <tr>\n",
              "      <th>1</th>\n",
              "      <td>V50012</td>\n",
              "      <td>CARGO SAFETRAVEL LTD</td>\n",
              "      <td>INVOICE</td>\n",
              "      <td>J1062628/1</td>\n",
              "      <td>USD</td>\n",
              "      <td>BFS026/000001137</td>\n",
              "      <td>03/30/2019</td>\n",
              "      <td>03/30/2019</td>\n",
              "      <td>-102.00</td>\n",
              "      <td>-102.00</td>\n",
              "      <td>0.00</td>\n",
              "      <td>-102.00</td>\n",
              "      <td>0.00</td>\n",
              "      <td>0.00</td>\n",
              "    </tr>\n",
              "    <tr>\n",
              "      <th>2</th>\n",
              "      <td>V50012</td>\n",
              "      <td>CARGO SAFETRAVEL LTD</td>\n",
              "      <td>INVOICE</td>\n",
              "      <td>J1062638/1</td>\n",
              "      <td>USD</td>\n",
              "      <td>BFS026/000001136</td>\n",
              "      <td>02/28/2019</td>\n",
              "      <td>03/15/2019</td>\n",
              "      <td>-204.00</td>\n",
              "      <td>-204.00</td>\n",
              "      <td>0.00</td>\n",
              "      <td>-204.00</td>\n",
              "      <td>0.00</td>\n",
              "      <td>0.00</td>\n",
              "    </tr>\n",
              "    <tr>\n",
              "      <th>3</th>\n",
              "      <td>V50014</td>\n",
              "      <td>ChaseB REGISTER USDA</td>\n",
              "      <td>INVOICE</td>\n",
              "      <td>110-135633</td>\n",
              "      <td>USD</td>\n",
              "      <td>BFS026/000001064</td>\n",
              "      <td>02/05/2019</td>\n",
              "      <td>04/29/2019</td>\n",
              "      <td>-4,665.00</td>\n",
              "      <td>-4,665.00</td>\n",
              "      <td>-4,665.00</td>\n",
              "      <td>0.00</td>\n",
              "      <td>0.00</td>\n",
              "      <td>0.00</td>\n",
              "    </tr>\n",
              "    <tr>\n",
              "      <th>4</th>\n",
              "      <td>V50015</td>\n",
              "      <td>METALS CHEMICALS GROUP LIMITED</td>\n",
              "      <td>INVOICE</td>\n",
              "      <td>SI191433</td>\n",
              "      <td>USD</td>\n",
              "      <td>BFS026/000000908</td>\n",
              "      <td>02/12/2019</td>\n",
              "      <td>03/30/2019</td>\n",
              "      <td>-198.00</td>\n",
              "      <td>-198.00</td>\n",
              "      <td>0.00</td>\n",
              "      <td>-198.00</td>\n",
              "      <td>0.00</td>\n",
              "      <td>0.00</td>\n",
              "    </tr>\n",
              "  </tbody>\n",
              "</table>\n",
              "</div>"
            ],
            "text/plain": [
              "  company_id                    company_name  ... months2 months3\n",
              "0     V50012                   Company A LTD  ...    0.00  263.52\n",
              "1     V50012            CARGO SAFETRAVEL LTD  ...    0.00    0.00\n",
              "2     V50012            CARGO SAFETRAVEL LTD  ...    0.00    0.00\n",
              "3     V50014            ChaseB REGISTER USDA  ...    0.00    0.00\n",
              "4     V50015  METALS CHEMICALS GROUP LIMITED  ...    0.00    0.00\n",
              "\n",
              "[5 rows x 14 columns]"
            ]
          },
          "metadata": {
            "tags": []
          },
          "execution_count": 18
        }
      ]
    },
    {
      "cell_type": "code",
      "metadata": {
        "colab": {
          "base_uri": "https://localhost:8080/"
        },
        "id": "V_eZ9zLJ4-iW",
        "outputId": "0e6bfec5-6e22-4138-c778-30d607b270df"
      },
      "source": [
        "df.info()"
      ],
      "execution_count": 19,
      "outputs": [
        {
          "output_type": "stream",
          "text": [
            "<class 'pandas.core.frame.DataFrame'>\n",
            "RangeIndex: 131 entries, 0 to 130\n",
            "Data columns (total 14 columns):\n",
            " #   Column        Non-Null Count  Dtype \n",
            "---  ------        --------------  ----- \n",
            " 0   company_id    131 non-null    object\n",
            " 1   company_name  131 non-null    object\n",
            " 2   doctype       131 non-null    object\n",
            " 3   reference     131 non-null    object\n",
            " 4   currency      131 non-null    object\n",
            " 5   voucher       131 non-null    object\n",
            " 6   inv_date      131 non-null    object\n",
            " 7   due_date      131 non-null    object\n",
            " 8   open_amt_tc   131 non-null    object\n",
            " 9   open_amt_bc   131 non-null    object\n",
            " 10  current       131 non-null    object\n",
            " 11  months1       131 non-null    object\n",
            " 12  months2       131 non-null    object\n",
            " 13  months3       131 non-null    object\n",
            "dtypes: object(14)\n",
            "memory usage: 14.5+ KB\n"
          ],
          "name": "stdout"
        }
      ]
    },
    {
      "cell_type": "code",
      "metadata": {
        "id": "aFnaFnXO5BwG"
      },
      "source": [
        "df['inv_date'] = pd.to_datetime(df['inv_date'])\n",
        "df['due_date'] = pd.to_datetime(df['due_date'])"
      ],
      "execution_count": 20,
      "outputs": []
    },
    {
      "cell_type": "code",
      "metadata": {
        "id": "pt5PZF2c5M5n"
      },
      "source": [
        "for col in df.columns[-6:]:\n",
        "  df[col] = df[col].map(lambda x: float(str(x).replace(',', '')))"
      ],
      "execution_count": 22,
      "outputs": []
    },
    {
      "cell_type": "code",
      "metadata": {
        "colab": {
          "base_uri": "https://localhost:8080/"
        },
        "id": "ufrc0UUi5XVl",
        "outputId": "9fe00057-3d46-448b-e86c-7e9d91b4a22c"
      },
      "source": [
        "df['open_amt_bc'].sum()"
      ],
      "execution_count": 23,
      "outputs": [
        {
          "output_type": "execute_result",
          "data": {
            "text/plain": [
              "-129580.73999999999"
            ]
          },
          "metadata": {
            "tags": []
          },
          "execution_count": 23
        }
      ]
    },
    {
      "cell_type": "code",
      "metadata": {
        "colab": {
          "base_uri": "https://localhost:8080/"
        },
        "id": "NTZOgR1-5o29",
        "outputId": "0d1f4400-e8a5-4458-9a13-1105890aade7"
      },
      "source": [
        "total_check"
      ],
      "execution_count": 24,
      "outputs": [
        {
          "output_type": "execute_result",
          "data": {
            "text/plain": [
              "-129317.22"
            ]
          },
          "metadata": {
            "tags": []
          },
          "execution_count": 24
        }
      ]
    },
    {
      "cell_type": "code",
      "metadata": {
        "id": "MxXh5Ehs5qcG"
      },
      "source": [
        "df.to_csv('invoice.csv', index = False)"
      ],
      "execution_count": 25,
      "outputs": []
    }
  ]
}